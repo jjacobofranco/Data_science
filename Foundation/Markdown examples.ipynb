{
 "cells": [
  {
   "cell_type": "markdown",
   "metadata": {},
   "source": [
    "# This is an example of Header L1\n",
    "## This is an example of Header L2\n",
    "### This is an example of Header L3\n",
    "#### This is an example of Header L4\n",
    "##### This is an example of Header L5\n",
    "###### This is an example of Header L6"
   ]
  },
  {
   "cell_type": "markdown",
   "metadata": {},
   "source": [
    "**Bold Text using asterisks.**\n",
    "\n",
    "__Bold Text using underscores.__\n",
    "\n",
    "*Text in italics using asterisk.*\n",
    "\n",
    "_Text in italics using underscore._\n",
    "\n",
    "***Bold and Italic text using asterisks.***\n",
    "\n",
    "___Bold and Italic text using underscores.___"
   ]
  },
  {
   "cell_type": "markdown",
   "metadata": {},
   "source": [
    "##### Link example:\n",
    "[Skills Network](https://skills.network/) "
   ]
  },
  {
   "cell_type": "markdown",
   "metadata": {},
   "source": [
    "##### Image example\n",
    "LOGO: ![This is the skills network logo](https://cf-courses-data.s3.us.cloud-object-storage.appdomain.cloud/assets/logos/SN_web_lightmode.png)"
   ]
  },
  {
   "cell_type": "markdown",
   "metadata": {},
   "source": [
    "##### Table example\n",
    "| Country Name | Capital |\n",
    "| -------------| ------ |\n",
    "| United States | Washington DC |\n",
    "| Australia | Canberra |\n",
    "| India | New Delhi |"
   ]
  },
  {
   "cell_type": "markdown",
   "metadata": {},
   "source": [
    "- First item using dashes\n",
    "- Second item using dashes\n",
    "- Third item using dashes\n",
    "- Fourth item using dashes\n",
    "\n",
    "* First item using asterisks\n",
    "* Second item using asterisks\n",
    "* Third item using asterisks\n",
    "* Fourth item using asterisks\n",
    "\n",
    "+ First item using plus\n",
    "+ Second item using plus\n",
    "+ Third item using plus\n",
    "+ Fourth item using plus"
   ]
  },
  {
   "cell_type": "markdown",
   "metadata": {},
   "source": [
    "1. First item\n",
    "2. Second item\n",
    "3. Third item\n",
    "4. Fourth item"
   ]
  }
 ],
 "metadata": {
  "kernelspec": {
   "display_name": "Python 3",
   "language": "python",
   "name": "python3"
  },
  "language_info": {
   "codemirror_mode": {
    "name": "ipython",
    "version": 3
   },
   "file_extension": ".py",
   "mimetype": "text/x-python",
   "name": "python",
   "nbconvert_exporter": "python",
   "pygments_lexer": "ipython3",
   "version": "3.9.6"
  }
 },
 "nbformat": 4,
 "nbformat_minor": 2
}
